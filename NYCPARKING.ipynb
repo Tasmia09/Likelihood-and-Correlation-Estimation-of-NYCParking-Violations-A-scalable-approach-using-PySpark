{
 "cells": [
  {
   "cell_type": "code",
   "execution_count": 210,
   "metadata": {
    "scrolled": true
   },
   "outputs": [
    {
     "name": "stdout",
     "output_type": "stream",
     "text": [
      "['Violation Code', 'Violation Precinct', 'Registration State', 'Vehicle Make', 'Violation Time', 'Violation County', 'Vehicle Color']\n",
      "['71', '23', 'NY', 'HONDA', '0724P', 'NY', nan]\n"
     ]
    }
   ],
   "source": [
    "# Note: If you are having trouble loading Spark, try uncommenting the following two lines\n",
    "#import findspark\n",
    "#findspark.init()\n",
    "import matplotlib\n",
    "from matplotlib import pyplot as plt\n",
    "import pandas as pd\n",
    "from pandas import DataFrame\n",
    "\n",
    "import numpy as np\n",
    "from pyspark import SparkContext\n",
    "sc = SparkContext.getOrCreate()\n",
    "\n",
    "# Function loads a food data text file and separates each row into (key, value) pair\n",
    "# Input: fileName: 'location/of/file.csv'\n",
    "#        delimiter: 'delimiter string', default='\\t'\n",
    "# Return: [('key', 'header'), ('data', 'header')], RDD <<(key, value), (key, value), ...>>\n",
    "def loadParkingData(fileName, delimiter=','):\n",
    "    # Load data values\n",
    "    csv_data = sc.textFile(fileName)\n",
    "    split_data = csv_data.map(lambda x: x.split(delimiter))\n",
    "    \n",
    "    # Separate header from data\n",
    "    header = split_data.first()\n",
    "    data = split_data.filter(lambda x: x!=header)\n",
    "    \n",
    "    \n",
    "#     Fill missing values with marker values (i.e., np.nan)\n",
    "    missing_data = data.map(lambda x: [x[i] if x[i]!='' else np.nan for i in range (0,7)])\n",
    "    \n",
    "    # Map the data to (key, value) pairs\n",
    "    kv_data = missing_data.map(lambda x: [x[0],x[1], x[2],x[3],x[4],x[5],x[6]])\n",
    "    kv_header = [header[0], header[1], header[2],header[3],header[4],header[5], header[6] ] # Match header to kv_data\n",
    "    \n",
    "    return kv_header, kv_data\n",
    "\n",
    "\n",
    "# Load the data in the first file\n",
    "header, data = loadParkingData('s.csv')\n",
    "\n",
    "# Look at the column names and the first row of data\n",
    "print(header)\n",
    "print(data.collect()[:][1])"
   ]
  },
  {
   "cell_type": "markdown",
   "metadata": {},
   "source": [
    "# Make a DataFrame\n",
    "\n",
    "# Remove Rows with Missing Values\n",
    "\n",
    "# From 6744 to 6508 (Data Reduced)"
   ]
  },
  {
   "cell_type": "code",
   "execution_count": 223,
   "metadata": {},
   "outputs": [],
   "source": [
    "table = data.collect()\n",
    "df = DataFrame (table)\n",
    "# df = df.transpose()\n",
    "df.columns = header\n",
    "df.dropna(inplace = True)\n",
    "# print (df)"
   ]
  },
  {
   "cell_type": "code",
   "execution_count": 224,
   "metadata": {},
   "outputs": [],
   "source": [
    "def makeKeyValue(key, value=1):\n",
    "    return (key, value)\n",
    "\n",
    "# Count (reduce) the values for a given key (word length)\n",
    "def addValues(val1, val2):\n",
    "    return val1 + val2\n"
   ]
  },
  {
   "cell_type": "code",
   "execution_count": 225,
   "metadata": {},
   "outputs": [],
   "source": [
    "data = df.values.T.tolist()\n"
   ]
  },
  {
   "cell_type": "markdown",
   "metadata": {},
   "source": [
    "# Making RDD from Each Lists"
   ]
  },
  {
   "cell_type": "code",
   "execution_count": 240,
   "metadata": {},
   "outputs": [],
   "source": [
    "from pyspark import SparkContext, SparkConf\n",
    "conf = SparkConf().setMaster(\"local\").setAppName(\"DataCount\")\n",
    "sc = SparkContext.getOrCreate(conf=conf)\n",
    "# header, data = loadFoodData('s.csv')\n",
    "violation_code = sc.parallelize(data[0])\n",
    "violation_precinct = sc.parallelize(data[1])\n",
    "registration_state = sc.parallelize(data[2])\n",
    "vehicle_make = sc.parallelize(data[3])\n",
    "violation_time = sc.parallelize(data[4])\n",
    "violation_county = sc.parallelize(data[5])\n",
    "vehicle_color = sc.parallelize(data[6])\n",
    "\n",
    "\n",
    "# print (violation_code.collect())"
   ]
  },
  {
   "cell_type": "markdown",
   "metadata": {},
   "source": [
    "# Count of Violation Code"
   ]
  },
  {
   "cell_type": "code",
   "execution_count": 229,
   "metadata": {},
   "outputs": [
    {
     "name": "stdout",
     "output_type": "stream",
     "text": [
      "Violation Code :  Count\n",
      "71             :   1441\n",
      "7              :   1083\n",
      "14             :    550\n",
      "21             :    543\n",
      "20             :    463\n",
      "40             :    394\n"
     ]
    }
   ],
   "source": [
    "vio_code_count = violation_code.map(makeKeyValue)\n",
    "vio_code_sum = vio_code_count.reduceByKey(addValues)\n",
    "\n",
    "vio_code_counts_sorted = sorted (vio_code_sum.collect(), key = lambda x: x[1], reverse = True)\n",
    "\n",
    "print('Violation Code :  Count')\n",
    "for vio_code, count in vio_code_counts_sorted[:6]:\n",
    "    print('{:<11}    : {:>6}'.format(vio_code, count))\n",
    "    "
   ]
  },
  {
   "cell_type": "code",
   "execution_count": 230,
   "metadata": {},
   "outputs": [
    {
     "data": {
      "text/plain": [
       "<Figure size 432x288 with 0 Axes>"
      ]
     },
     "metadata": {},
     "output_type": "display_data"
    },
    {
     "data": {
      "image/png": "[encoded data removed]",
      "text/plain": [
       "<Figure size 1440x648 with 1 Axes>"
      ]
     },
     "metadata": {},
     "output_type": "display_data"
    }
   ],
   "source": [
    "plt.clf()\n",
    "\n",
    "vio_code_counts_sorted = sorted (vio_code_sum.collect(), key = lambda x: x[1], reverse = True)\n",
    "# print (vio_code_counts_sorted)\n",
    "fig, axs = plt.subplots(1,1,figsize=(20,9))\n",
    "\n",
    "X_vals, Y_vals = zip(*vio_code_counts_sorted)\n",
    "\n",
    "x = [x for x, _ in enumerate(X_vals)]\n",
    "# axs.bar(X_vals, Y_vals, 0.75)\n",
    "# plt.xlim((.125, len(X_vals)))\n",
    "\n",
    "axs.bar(x, Y_vals, color='m')\n",
    "\n",
    "plt.xticks(x, X_vals)\n",
    "plt.xlabel('Violation Code')\n",
    "plt.ylabel('Frequency')\n",
    "plt.title(\"Violation Code Frequency Count in 'NYC Parking Violations Data 2018'\")\n",
    "plt.show()"
   ]
  },
  {
   "cell_type": "markdown",
   "metadata": {},
   "source": [
    "# Count of Violation Time"
   ]
  },
  {
   "cell_type": "code",
   "execution_count": 231,
   "metadata": {},
   "outputs": [
    {
     "name": "stdout",
     "output_type": "stream",
     "text": [
      "Violation Time          :  Count\n",
      "0133P                   :     26\n",
      "1146A                   :     25\n",
      "0143P                   :     24\n",
      "1136A                   :     23\n",
      "0124P                   :     23\n",
      "1215P                   :     22\n",
      "0118P                   :     22\n",
      "0110P                   :     21\n",
      "1108A                   :     21\n",
      "1143A                   :     21\n",
      "1209P                   :     21\n",
      "1255P                   :     20\n",
      "1130A                   :     20\n",
      "1201P                   :     20\n",
      "0135P                   :     20\n",
      "0155P                   :     20\n",
      "1139A                   :     20\n",
      "1116A                   :     19\n",
      "0157P                   :     19\n",
      "0120P                   :     19\n"
     ]
    }
   ],
   "source": [
    "violation_time_count = violation_time.map(makeKeyValue)\n",
    "violation_time_sum = violation_time_count.reduceByKey(addValues)\n",
    "\n",
    "vio_time_counts_sorted = sorted (violation_time_sum.collect(), key = lambda x: x[1], reverse = True)\n",
    "\n",
    "print('Violation Time          :  Count')\n",
    "for vio_time, count in vio_time_counts_sorted[:20]:\n",
    "    print('{:<20}    : {:>6}'.format(vio_time, count))\n",
    "        "
   ]
  },
  {
   "cell_type": "markdown",
   "metadata": {},
   "source": [
    "# 20 most common violation time"
   ]
  },
  {
   "cell_type": "code",
   "execution_count": 247,
   "metadata": {},
   "outputs": [
    {
     "data": {
      "text/plain": [
       "<Figure size 432x288 with 0 Axes>"
      ]
     },
     "metadata": {},
     "output_type": "display_data"
    },
    {
     "data": {
      "image/png": "[encoded data removed]",
      "text/plain": [
       "<Figure size 1440x648 with 1 Axes>"
      ]
     },
     "metadata": {},
     "output_type": "display_data"
    }
   ],
   "source": [
    "plt.clf()\n",
    "\n",
    "vio_time_counts_sorted = sorted (violation_time_sum.collect(), key = lambda x: x[1], reverse = True)\n",
    "\n",
    "X_vals, Y_vals = zip(*vio_time_counts_sorted[:20])\n",
    "\n",
    "def plot_bar(x,y,x_label,y_label,title):\n",
    "    fig, axs = plt.subplots(1,1,figsize=(20,9))\n",
    "    index = np.arange(len(x))\n",
    "    plt.bar(index, y, color ='r')\n",
    "    plt.xlabel(x_label, fontsize=5)\n",
    "    plt.ylabel(y_label, fontsize=5)\n",
    "    plt.xticks(index, x, fontsize=5, rotation=30)\n",
    "    plt.title(title)\n",
    "    plt.show()\n",
    "    \n",
    "    \n",
    "plot_bar (X_vals, Y_vals, \"Violation Time\", \"Frequency\", \"Violation Time Frequency Count in 'NYC Parking Violations Data 2018'\"  )\n",
    "\n",
    "# x = [x for x, _ in enumerate(X_vals)]\n",
    "# # axs.bar(X_vals, Y_vals, 0.75)\n",
    "# # plt.xlim((.125, len(X_vals)))\n",
    "\n",
    "# axs.barh(x, Y_vals, color='r')\n",
    "\n",
    "# plt.yticks(x, X_vals)\n",
    "# plt.ylabel('Violation Time')\n",
    "# plt.xlabel('Frequency')\n",
    "# plt.title(\"Violation Time Frequency Count in 'NYC Parking Violations Data 2018'\")\n",
    "# plt.show()"
   ]
  },
  {
   "cell_type": "markdown",
   "metadata": {},
   "source": [
    "# Count of Violation Vehicle Body Type"
   ]
  },
  {
   "cell_type": "code",
   "execution_count": 241,
   "metadata": {},
   "outputs": [
    {
     "name": "stdout",
     "output_type": "stream",
     "text": [
      "Vehicle Make            :  Count\n",
      "TOYOT                   :    981\n",
      "FORD                    :    787\n",
      "HONDA                   :    710\n",
      "NISSA                   :    566\n",
      "CHEVR                   :    433\n",
      "FRUEH                   :    256\n",
      "ME/BE                   :    251\n",
      "DODGE                   :    224\n",
      "BMW                     :    210\n",
      "JEEP                    :    204\n",
      "Total Number of Vehicle Body Type:  81\n"
     ]
    }
   ],
   "source": [
    "vehicle_make_count = vehicle_make.map(makeKeyValue)\n",
    "vehicle_make_sum = vehicle_make_count.reduceByKey(addValues)\n",
    "\n",
    "vehicle_make_counts_sorted = sorted (vehicle_make_sum.collect(), key = lambda x: x[1], reverse = True)\n",
    "# print (vehicle_make_counts_sorted)\n",
    "print('Vehicle Make            :  Count')\n",
    "for vehicle_make, count in vehicle_make_counts_sorted[:10]:\n",
    "    print('{:<20}    : {:>6}'.format(vehicle_make, count))\n",
    "    \n",
    "ls = [vehicle_make for vehicle_make, count in vehicle_make_counts_sorted[:]]\n",
    "    \n",
    "print (\"Total Number of Vehicle Body Type: \", len(ls))"
   ]
  },
  {
   "cell_type": "code",
   "execution_count": 243,
   "metadata": {},
   "outputs": [
    {
     "data": {
      "text/plain": [
       "<Figure size 432x288 with 0 Axes>"
      ]
     },
     "metadata": {},
     "output_type": "display_data"
    },
    {
     "data": {
      "image/png": "[encoded data removed]",
      "text/plain": [
       "<Figure size 1440x648 with 1 Axes>"
      ]
     },
     "metadata": {},
     "output_type": "display_data"
    }
   ],
   "source": [
    "plt.clf()\n",
    "\n",
    "vehicle_make_counts_sorted = sorted (vehicle_make_sum.collect(), key = lambda x: x[1], reverse = True)\n",
    "\n",
    "# fig, axs = plt.subplots(1,1,figsize=(20,9))\n",
    "\n",
    "X_vals, Y_vals = zip(*vehicle_make_counts_sorted)\n",
    "\n",
    "\n",
    "# this function can be called to plot bargarphs\n",
    "\n",
    "def plot_bar(x,y,x_label,y_label,title):\n",
    "    fig, axs = plt.subplots(1,1,figsize=(20,9))\n",
    "    index = np.arange(len(x))\n",
    "    plt.bar(index, y, color ='g')\n",
    "    plt.xlabel(x_label, fontsize=5)\n",
    "    plt.ylabel(y_label, fontsize=5)\n",
    "    plt.xticks(index, x, fontsize=5, rotation=30)\n",
    "    plt.title(title)\n",
    "    plt.show()\n",
    "    \n",
    "# x = [x for x, _ in enumerate(X_vals)]\n",
    "# axs.bar(X_vals, Y_vals, 0.75)\n",
    "# plt.xlim((.125, len(X_vals)))\n",
    "\n",
    "# axs.bar(x, Y_vals, color='m')\n",
    "\n",
    "# plt.xticks(x, X_vals)\n",
    "# plt.xlabel('Vehicle Make')\n",
    "# plt.ylabel('Frequency')\n",
    "# plt.title(\"Vehicle Type Frequency Count in 'NYC Parking Violations Data 2018'\")\n",
    "# plt.show()\n",
    "\n",
    "\n",
    "plot_bar (X_vals, Y_vals,\"Vehicle Make\",\"Frequency\", \"Vehicle Type Frequency Count in 'NYC Parking Violations Data 2018'\" )"
   ]
  },
  {
   "cell_type": "code",
   "execution_count": null,
   "metadata": {},
   "outputs": [],
   "source": []
  }
 ],
 "metadata": {
  "kernelspec": {
   "display_name": "Python 3",
   "language": "python",
   "name": "python3"
  },
  "language_info": {
   "codemirror_mode": {
    "name": "ipython",
    "version": 3
   },
   "file_extension": ".py",
   "mimetype": "text/x-python",
   "name": "python",
   "nbconvert_exporter": "python",
   "pygments_lexer": "ipython3",
   "version": "3.6.5"
  }
 },
 "nbformat": 4,
 "nbformat_minor": 2
}
